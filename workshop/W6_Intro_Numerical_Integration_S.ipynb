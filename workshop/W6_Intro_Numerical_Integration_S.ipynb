{
 "cells": [
  {
   "cell_type": "markdown",
   "metadata": {},
   "source": [
    "# Workshop 6: Intro to Numerical Integration"
   ]
  },
  {
   "cell_type": "code",
   "execution_count": 1,
   "metadata": {},
   "outputs": [],
   "source": [
    "import scipy         # Another numerical library\n",
    "from scipy import integrate\n",
    "\n",
    "import matplotlib    # Library used for plotting\n",
    "import numpy as np   # Numerical library\n",
    "import matplotlib.pyplot as plt # Plot commands\n",
    "import time\n",
    "\n",
    "# Define some colors using the RGB format\n",
    "\n",
    "CF_red = (204/255, 121/255, 167/255)\n",
    "CF_vermillion = (213/255, 94/255, 0)\n",
    "CF_orange = (230/255, 159/255, 0)\n",
    "CF_yellow = (240/255, 228/255, 66/255)\n",
    "CF_green = (0, 158/255, 115/255)\n",
    "CF_sky = (86/255, 180/255, 233/255)\n",
    "CF_blue = (0, 114/255, 178/255)\n",
    "CF_black = (0, 0, 0)"
   ]
  },
  {
   "cell_type": "markdown",
   "metadata": {},
   "source": [
    "### Monte Carlo Integration\n",
    "\n",
    "Let us start with a simple integral\n",
    "\n",
    "$$\n",
    "\\int_0^2 dx\\,e^{x} = e^{2} - 1\\,.\n",
    "$$\n",
    "\n",
    "We can use the methods that we have learned so far to approximate it numerically. To do so, we draw a square with $x\\in[0,2]$ and $y\\in[0,e^2]$. We then proceed to randomly position points inside this square. A certain proportion of these points will be below the $e^x$ curve. By recalling that the integral gives the area below the curve, the fraction of the points below the curve is exactly the ratio of the integral to the area of the square. "
   ]
  },
  {
   "cell_type": "code",
   "execution_count": 28,
   "metadata": {},
   "outputs": [
    {
     "name": "stdout",
     "output_type": "stream",
     "text": [
      "The area is 6.389894189588904\n",
      "The exact result is 6.38905609893065\n"
     ]
    }
   ],
   "source": [
    "def Integrate(nPts):\n",
    "    # Generate coordinates for the randomly positioned positions\n",
    "    xs = 2 * np.random.random(nPts)\n",
    "    ys = np.exp(2) * np.random.random(nPts)\n",
    "    count = np.sum(ys < np.array([np.exp(x) for x in xs]))\n",
    "    return count / nPts * 2 * np.exp(2)\n",
    "\n",
    "nPts = 100_000_000\n",
    "print(\"The area is \" + str(Integrate(nPts)))\n",
    "print(\"The exact result is \" + str(np.exp(2) - 1))"
   ]
  },
  {
   "cell_type": "markdown",
   "metadata": {},
   "source": [
    "### Riemann Sum\n",
    "\n",
    "The convergence to the right answer is quite slow. So instead, let us try the Riemann summation."
   ]
  },
  {
   "cell_type": "code",
   "execution_count": 33,
   "metadata": {},
   "outputs": [
    {
     "name": "stdout",
     "output_type": "stream",
     "text": [
      "The result is 6.388417150724914 and it took 0.012312635999933264 seconds\n"
     ]
    }
   ],
   "source": [
    "def fun_int(x):\n",
    "    return np.exp(x)\n",
    "\n",
    "def Integrate_R(nPts):\n",
    "    x_min = 0\n",
    "    x_max = 2\n",
    "\n",
    "    xs = np.linspace(x_min, x_max, nPts)\n",
    "    Delta_x = xs[2] - xs[1]\n",
    "\n",
    "    int_sum = 0\n",
    "    for i in range(0, nPts - 1):\n",
    "        int_sum += fun_int(xs[i]) * Delta_x\n",
    "    return int_sum\n",
    "\n",
    "nPts = 10000\n",
    "tic = time.perf_counter()\n",
    "res = Integrate_R(nPts)\n",
    "toc = time.perf_counter()\n",
    "\n",
    "print(f\"The result is {res} and it took {toc - tic} seconds\")"
   ]
  },
  {
   "cell_type": "markdown",
   "metadata": {},
   "source": [
    "### Trapezoidal Rule\n",
    "\n",
    "Let us try to improve the calculation using the Trapezoidal rule:"
   ]
  },
  {
   "cell_type": "code",
   "execution_count": 34,
   "metadata": {},
   "outputs": [
    {
     "name": "stdout",
     "output_type": "stream",
     "text": [
      "The result is 6.38777818121807 and it took 0.02223705099959261 seconds\n"
     ]
    }
   ],
   "source": [
    "def fun_int(x):\n",
    "    return np.exp(x)\n",
    "\n",
    "def Integrate_T(nPts):\n",
    "    int_R = Integrate_R(nPts)\n",
    "\n",
    "    x_min = 0\n",
    "    x_max = 2\n",
    "\n",
    "    xs = np.linspace(x_min, x_max, nPts)\n",
    "    Delta_x = xs[2] - xs[1]\n",
    "    corr = Delta_x * (fun_int(x_max) - fun_int(x_min)) / 2\n",
    "\n",
    "    return int_R - corr\n",
    "\n",
    "    # x_min = 0\n",
    "    # x_max = 2\n",
    "\n",
    "    # xs = np.linspace(x_min, x_max, nPts)\n",
    "    # Delta_x = xs[2] - xs[1]\n",
    "\n",
    "    # int_sum = 0\n",
    "    # for i in range(0, nPts - 1):\n",
    "    #     int_sum += Delta_x * (fun_int(xs[i]) + fun_int(xs[i - 1])) / 2\n",
    "    # return int_sum\n",
    "\n",
    "nPts = 10000\n",
    "tic = time.perf_counter()\n",
    "res = Integrate_T(nPts)\n",
    "toc = time.perf_counter()\n",
    "\n",
    "print(f\"The result is {res} and it took {toc - tic} seconds\")"
   ]
  },
  {
   "cell_type": "markdown",
   "metadata": {},
   "source": [
    "### Simpson's Rule\n",
    "\n",
    "Finally, we take a look at Simpson's rule:"
   ]
  },
  {
   "cell_type": "code",
   "execution_count": 37,
   "metadata": {},
   "outputs": [
    {
     "name": "stdout",
     "output_type": "stream",
     "text": [
      "The result is 6.388220424709923 and it took 0.03603936599984081 seconds\n"
     ]
    }
   ],
   "source": [
    "def fun_int(x):\n",
    "    return np.exp(x)\n",
    "\n",
    "def Integrate_S(nPts):\n",
    "    x_min = 0\n",
    "    x_max = 2\n",
    "\n",
    "    xs = np.linspace(x_min, x_max, nPts)\n",
    "    Delta_x = xs[2] - xs[1]\n",
    "\n",
    "    int_sum = 0\n",
    "    for i in range(0, nPts - 1):\n",
    "        int_sum += Delta_x * (fun_int(xs[i]) + fun_int(xs[i - 1]) + 4 * fun_int((xs[i - 1] + xs[i]) / 2)) / 6\n",
    "    return int_sum\n",
    "\n",
    "nPts = 10000\n",
    "tic = time.perf_counter()\n",
    "res = Integrate_S(nPts)\n",
    "toc = time.perf_counter()\n",
    "\n",
    "print(f\"The result is {res} and it took {toc - tic} seconds\")"
   ]
  },
  {
   "cell_type": "markdown",
   "metadata": {},
   "source": [
    "## Gaussian Quadratures"
   ]
  },
  {
   "cell_type": "code",
   "execution_count": null,
   "metadata": {},
   "outputs": [],
   "source": []
  },
  {
   "cell_type": "code",
   "execution_count": null,
   "metadata": {},
   "outputs": [],
   "source": []
  },
  {
   "cell_type": "code",
   "execution_count": null,
   "metadata": {},
   "outputs": [],
   "source": []
  },
  {
   "cell_type": "code",
   "execution_count": null,
   "metadata": {},
   "outputs": [],
   "source": []
  },
  {
   "cell_type": "code",
   "execution_count": null,
   "metadata": {},
   "outputs": [],
   "source": []
  },
  {
   "cell_type": "code",
   "execution_count": null,
   "metadata": {},
   "outputs": [],
   "source": []
  },
  {
   "cell_type": "code",
   "execution_count": null,
   "metadata": {},
   "outputs": [],
   "source": []
  },
  {
   "cell_type": "code",
   "execution_count": null,
   "metadata": {},
   "outputs": [],
   "source": []
  }
 ],
 "metadata": {
  "kernelspec": {
   "display_name": "Python 3 (ipykernel)",
   "language": "python",
   "name": "python3"
  },
  "language_info": {
   "codemirror_mode": {
    "name": "ipython",
    "version": 3
   },
   "file_extension": ".py",
   "mimetype": "text/x-python",
   "name": "python",
   "nbconvert_exporter": "python",
   "pygments_lexer": "ipython3",
   "version": "3.10.13"
  }
 },
 "nbformat": 4,
 "nbformat_minor": 4
}
