{
 "cells": [
  {
   "cell_type": "markdown",
   "metadata": {},
   "source": [
    "# Workshop 6: Acceptance-Rejection Method"
   ]
  },
  {
   "cell_type": "code",
   "execution_count": null,
   "metadata": {},
   "outputs": [],
   "source": [
    "import scipy         # Another numerical library\n",
    "from scipy import integrate\n",
    "\n",
    "import matplotlib    # Library used for plotting\n",
    "import numpy as np   # Numerical library\n",
    "import matplotlib.pyplot as plt # Plot commands\n",
    "\n",
    "# Define some colors using the RGB format\n",
    "\n",
    "CF_red = (204/255, 121/255, 167/255)\n",
    "CF_vermillion = (213/255, 94/255, 0)\n",
    "CF_orange = (230/255, 159/255, 0)\n",
    "CF_yellow = (240/255, 228/255, 66/255)\n",
    "CF_green = (0, 158/255, 115/255)\n",
    "CF_sky = (86/255, 180/255, 233/255)\n",
    "CF_blue = (0, 114/255, 178/255)\n",
    "CF_black = (0, 0, 0)"
   ]
  },
  {
   "cell_type": "markdown",
   "metadata": {},
   "source": [
    "### Sampling a Circle\n",
    "\n",
    "Consider a circle of radius $r$. For whatever reason, we want to deposit uniformly distributed points inside it. Naively, we might proceed as follows:"
   ]
  },
  {
   "cell_type": "code",
   "execution_count": null,
   "metadata": {},
   "outputs": [],
   "source": []
  },
  {
   "cell_type": "markdown",
   "metadata": {},
   "source": [
    "One does not need to be a statistician to see that the points are not uniformly distributed. One way to remedy the situation is as follows"
   ]
  },
  {
   "cell_type": "code",
   "execution_count": null,
   "metadata": {},
   "outputs": [],
   "source": []
  },
  {
   "cell_type": "markdown",
   "metadata": {},
   "source": [
    "The approach that we used is called the **acceptance-rejection method**. It is commonly used to generate random numbers that are supposed to follow a particular distribution."
   ]
  },
  {
   "cell_type": "markdown",
   "metadata": {},
   "source": [
    "### Normal Distribution\n",
    "\n",
    "So far, we have been using the built-in random number generator to produce random numbers with uniform distribution. Sometimes, we will want to produce numbers that follow a normal distribution."
   ]
  },
  {
   "cell_type": "code",
   "execution_count": null,
   "metadata": {},
   "outputs": [],
   "source": []
  },
  {
   "cell_type": "markdown",
   "metadata": {},
   "source": [
    "Let us now write our own generator for normally distributed numbers. We can use a method similar to the one we used for the circle. From the illustration above, we see that we can generate pairs of numbers: $y\\in[0,0.45]$ and $x\\in[-4,4]$ and keep only the pairs that fall under the curve. The corresponding $x$ coordinates are the desired numbers.\n",
    "\n",
    "In reality, the normal distribution does not terminate at $4$, but it is quite unlikely that we will encounter numbers outside 4$\\sigma$. We can, of course, increase the range."
   ]
  },
  {
   "cell_type": "code",
   "execution_count": null,
   "metadata": {},
   "outputs": [],
   "source": []
  },
  {
   "cell_type": "markdown",
   "metadata": {},
   "source": [
    "When using the acceptrance-rejection method, the performance is improved if the random number box hugs the curves as closely as possible. This reduces the number of points that will be rejected, speeding up the process.\n",
    "\n",
    "#### Important:\n",
    "\n",
    "Sometimes we do not know the normalization constant of the distribution function. This, however, does not present a problem. What is important for us is not the absolute probability of a given value being drawn, but rather its probability relative to that of other values.\n"
   ]
  },
  {
   "cell_type": "markdown",
   "metadata": {},
   "source": [
    "### Ideal Gas\n",
    "\n",
    "For a particle at temperature $T$, the probability to be found in a state with energy $E_n$ is \n",
    "\n",
    "$$P_n = e^{-\\beta E_n}/Z\\,,$$\n",
    "\n",
    "where $\\beta = 1/k_B T$ with $k_B$ being the Boltzmann constant, and $Z = \\sum_n e^{-\\beta E_n}$ is the partition function. The sum in the partition function runs over all available states. In the probability expression, the partition function acts as a normalization constant and, as such, is inconsequential for the acceptance-rejection method.\n",
    "\n",
    "Let us use this information to study the behavior of nitrogen gas at temperature $T$. Assuming no interaction between gas molecules, the energy for a single $N_2$ molecule is purely kinetic: $E = mv^2/2$. This sets the term inside the exponential to $-mv^2/(2k_BT)$. Here, both $m$ and $k_B$ are small numbers. As we will learn better later, it is generally a good practice to avoid dealing with very small or very large numbers. To circumvent this issue, we rewrite the Boltzmaan constant using the gas constant $R = 8.314 \\mathrm{J\\,K^{-1}\\,mol^{-1}}$ and the Avogadro's number as\n",
    "\n",
    "$$\n",
    "-\\frac{mv^2}{2k_BT} = -\\frac{mv^2N_A}{2RT} = -\\frac{Mv^2}{2RT}\\,,\n",
    "$$\n",
    "\n",
    "where $M =0.028$ kg/mol is the molar mass of $N_2$. This sets\n",
    "$$\n",
    "-\\frac{mv^2}{2k_BT} \\approx -\\frac{0.0017 v^2}{T}\\,,\n",
    "$$\n",
    "removing the overly small numbers from the expression.\n",
    "\n",
    "\n",
    "#### You Try!\n",
    "Write a function that returns a single 3D velocity of a molecule that obeys the distribution above. Next, run the function above \"enough\" times to sample the distribution and plot the histogram of speeds."
   ]
  },
  {
   "cell_type": "code",
   "execution_count": null,
   "metadata": {},
   "outputs": [],
   "source": []
  },
  {
   "cell_type": "code",
   "execution_count": null,
   "metadata": {},
   "outputs": [],
   "source": []
  },
  {
   "cell_type": "code",
   "execution_count": null,
   "metadata": {},
   "outputs": [],
   "source": []
  }
 ],
 "metadata": {
  "kernelspec": {
   "display_name": "Python 3 (ipykernel)",
   "language": "python",
   "name": "python3"
  },
  "language_info": {
   "codemirror_mode": {
    "name": "ipython",
    "version": 3
   },
   "file_extension": ".py",
   "mimetype": "text/x-python",
   "name": "python",
   "nbconvert_exporter": "python",
   "pygments_lexer": "ipython3",
   "version": "3.10.13"
  }
 },
 "nbformat": 4,
 "nbformat_minor": 4
}
