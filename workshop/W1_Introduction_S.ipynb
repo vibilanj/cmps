{
 "cells": [
  {
   "cell_type": "markdown",
   "metadata": {},
   "source": [
    "# Workshop 1: Introduction to Python and Computational Thinking\n",
    "\n",
    "* Basic Python syntax\n",
    "* Variables and Functions\n",
    "* Control flow"
   ]
  },
  {
   "cell_type": "markdown",
   "metadata": {},
   "source": [
    "### About Python\n",
    "\n",
    "#### A little history:\n",
    "Python is an interpreted high-level programming language for general-purpose programming. Created by Guido van Rossum and first released in 1991, Python has a design philosophy that emphasizes code readability, notably using significant whitespace.\n",
    "\n",
    "#### Some reasons to learn Python:\n",
    "* Straightforward syntax makes it beginner-friendly\n",
    "* Python is ubiquitous with applications ranging from science to finance\n",
    "* Abundant resources are available online\n",
    "* It really is EVERYWHERE"
   ]
  },
  {
   "cell_type": "markdown",
   "metadata": {},
   "source": [
    "### Basic Python\n",
    "#### Python Syntax\n",
    "\n",
    "Python is designed so that there really isn't that much to learn in the basic language. Python code can be executed by writing directly in a code cell using Jupyter or by creating a python file on the server, using the .py file extension, and running it in the Command Line. For now, all our code will be run inside the notebook cells.\n",
    "\n",
    "\n",
    "\n",
    "#### Example of code cell:\n",
    "Let us use a code cell to print the traditional ```Hello world```"
   ]
  },
  {
   "cell_type": "code",
   "execution_count": 2,
   "metadata": {},
   "outputs": [
    {
     "name": "stdout",
     "output_type": "stream",
     "text": [
      "Hello world\n"
     ]
    }
   ],
   "source": [
    "print(\"Hello world\")"
   ]
  },
  {
   "cell_type": "markdown",
   "metadata": {},
   "source": [
    "#### Indentation\n",
    "In most programming languages, indentation is used to improve the code readability. In Python, on the other hand, indentation is required to indicate blocks of code. For example,"
   ]
  },
  {
   "cell_type": "code",
   "execution_count": 3,
   "metadata": {},
   "outputs": [
    {
     "name": "stdout",
     "output_type": "stream",
     "text": [
      "Five is bigger than zero!\n"
     ]
    }
   ],
   "source": [
    "if (5 > 0):\n",
    "    print(\"Five is bigger than zero!\")"
   ]
  },
  {
   "cell_type": "markdown",
   "metadata": {},
   "source": [
    "Removing the indentation results in an error:"
   ]
  },
  {
   "cell_type": "code",
   "execution_count": 4,
   "metadata": {},
   "outputs": [
    {
     "ename": "IndentationError",
     "evalue": "expected an indented block after 'if' statement on line 1 (175737455.py, line 2)",
     "output_type": "error",
     "traceback": [
      "\u001b[0;36m  Cell \u001b[0;32mIn[4], line 2\u001b[0;36m\u001b[0m\n\u001b[0;31m    print(\"Five is bigger than zero!\")\u001b[0m\n\u001b[0m    ^\u001b[0m\n\u001b[0;31mIndentationError\u001b[0m\u001b[0;31m:\u001b[0m expected an indented block after 'if' statement on line 1\n"
     ]
    }
   ],
   "source": [
    "if (5 > 0):\n",
    "print(\"Five is bigger than zero!\")"
   ]
  },
  {
   "cell_type": "markdown",
   "metadata": {},
   "source": [
    "#### Comments\n",
    "Comments can be added directly to the code by starting the line with #:"
   ]
  },
  {
   "cell_type": "code",
   "execution_count": 5,
   "metadata": {},
   "outputs": [
    {
     "name": "stdout",
     "output_type": "stream",
     "text": [
      "Five is bigger than zero!\n"
     ]
    }
   ],
   "source": [
    "# This is a comment\n",
    "if (5 > 0):\n",
    "     print(\"Five is bigger than zero!\")"
   ]
  },
  {
   "cell_type": "markdown",
   "metadata": {},
   "source": [
    "### Variables\n",
    "\n",
    "Variables are used to store and manipulate information in a computer program. They can be thought of as containers that carry data and their sole purpose is to label and store data in memory. Variables have names chosen in a way to make the code more understandable to the reader.\n",
    "\n",
    "In Python, there is no command for declaring a variable. Instead, variables are initialized the moment a value is assigned to them."
   ]
  },
  {
   "cell_type": "code",
   "execution_count": 6,
   "metadata": {},
   "outputs": [],
   "source": [
    "# Two variables\n",
    "var_1 = 5\n",
    "var_2 = 7"
   ]
  },
  {
   "cell_type": "code",
   "execution_count": 8,
   "metadata": {},
   "outputs": [
    {
     "name": "stdout",
     "output_type": "stream",
     "text": [
      "12\n"
     ]
    }
   ],
   "source": [
    "var_3 = var_1 + var_2\n",
    "\n",
    "print(var_3)"
   ]
  },
  {
   "cell_type": "markdown",
   "metadata": {},
   "source": [
    "Variables can have different *types*. In Python, there are five main type categories:\n",
    "\n",
    "* Number\n",
    "* String\n",
    "* Tuple\n",
    "* List\n",
    "* Dictionary\n",
    "\n",
    "Some of the categories can contain more than one type. For example, Number can be an integer or a floating point number or a boolean. We will learn more about them as we go along. The important point here is that when performing operations on variables, make sure these operations are defined for the particular type. That is, do not try to subtract an integer from a string."
   ]
  },
  {
   "cell_type": "code",
   "execution_count": 9,
   "metadata": {},
   "outputs": [
    {
     "ename": "TypeError",
     "evalue": "unsupported operand type(s) for -: 'str' and 'int'",
     "output_type": "error",
     "traceback": [
      "\u001b[0;31m---------------------------------------------------------------------------\u001b[0m",
      "\u001b[0;31mTypeError\u001b[0m                                 Traceback (most recent call last)",
      "Cell \u001b[0;32mIn[9], line 4\u001b[0m\n\u001b[1;32m      1\u001b[0m my_int \u001b[38;5;241m=\u001b[39m \u001b[38;5;241m5\u001b[39m\n\u001b[1;32m      2\u001b[0m my_str \u001b[38;5;241m=\u001b[39m \u001b[38;5;124m\"\u001b[39m\u001b[38;5;124mtest\u001b[39m\u001b[38;5;124m\"\u001b[39m\n\u001b[0;32m----> 4\u001b[0m \u001b[43mmy_str\u001b[49m\u001b[43m \u001b[49m\u001b[38;5;241;43m-\u001b[39;49m\u001b[43m \u001b[49m\u001b[43mmy_int\u001b[49m\n",
      "\u001b[0;31mTypeError\u001b[0m: unsupported operand type(s) for -: 'str' and 'int'"
     ]
    }
   ],
   "source": [
    "my_int = 5\n",
    "my_str = \"test\"\n",
    "\n",
    "my_str - my_int"
   ]
  },
  {
   "cell_type": "markdown",
   "metadata": {},
   "source": [
    "The following, however is totally valid because Python treats the boolean True/False as 1/0:"
   ]
  },
  {
   "cell_type": "code",
   "execution_count": 10,
   "metadata": {},
   "outputs": [
    {
     "name": "stdout",
     "output_type": "stream",
     "text": [
      "3.32\n",
      "2.32\n"
     ]
    }
   ],
   "source": [
    "my_bool = True;  # Declare a boolean\n",
    "my_float = 2.32; # Declare a float\n",
    "\n",
    "# Add the variables. \n",
    "# Here, Python will treat the boolean \n",
    "# as a float to complete the operation\n",
    "print(my_bool + my_float)\n",
    "\n",
    "\n",
    "# Similarly, if we try to multiply \n",
    "# the variables, the boolean is treated as 1.0\n",
    "print(my_bool * my_float)"
   ]
  },
  {
   "cell_type": "markdown",
   "metadata": {},
   "source": [
    "#### You try!"
   ]
  },
  {
   "cell_type": "code",
   "execution_count": 16,
   "metadata": {},
   "outputs": [
    {
     "name": "stdout",
     "output_type": "stream",
     "text": [
      "hello there\n"
     ]
    }
   ],
   "source": [
    "# Define two string variables. What algebraic operations can you do with them?\n",
    "str1 = \"hello \"\n",
    "str2 = \"there\"\n",
    "\n",
    "str1 + str2\n",
    "# str1 - str2\n",
    "# str1 * str2\n",
    "# str1 / str2"
   ]
  },
  {
   "cell_type": "code",
   "execution_count": 24,
   "metadata": {},
   "outputs": [
    {
     "data": {
      "text/plain": [
       "'a string a string a string '"
      ]
     },
     "execution_count": 24,
     "metadata": {},
     "output_type": "execute_result"
    }
   ],
   "source": [
    "# Define two variables: a string and a number. \n",
    "# What algebraic operations are allowed? Does it matter if the number is an integer or a float?\n",
    "str1 = \"a string \"\n",
    "int1 = 3\n",
    "\n",
    "# str1 + int1\n",
    "# str1 - int1\n",
    "str1 * int1\n",
    "# str1 / int1"
   ]
  },
  {
   "cell_type": "markdown",
   "metadata": {},
   "source": [
    "### Functions\n",
    "\n",
    "Functions are operations that take some input and return some output. They are a block of organized, reusable code that is used to perform a single action. \n",
    "They are very useful because they allow you to build your code in a modular way: you can reuse the same lines without having to re-write them!\n",
    "\n",
    "Python provides many built-in functions, such as :\n",
    "\n",
    "\n",
    "```\n",
    "print()\n",
    "return()\n",
    "min()\n",
    "max()\n",
    "pow()\n",
    "round()\n",
    "sum()\n",
    "len()\n",
    "\n",
    "```\n",
    "but you can create your own functions, following python syntax for functions:\n",
    "\n",
    "\n",
    "```\n",
    "def function_name(parameter1, parameter2):\n",
    "   function_suite\n",
    "   return([expression])\n",
    "```\n",
    "\n",
    "The following is an example of a function that sums two numbers:"
   ]
  },
  {
   "cell_type": "code",
   "execution_count": null,
   "metadata": {},
   "outputs": [],
   "source": [
    "def my_sum(par1, par2):\n",
    "    return (par1 + par2)\n",
    "\n",
    "print(my_sum(2,3))"
   ]
  },
  {
   "cell_type": "markdown",
   "metadata": {},
   "source": [
    "#### You try!"
   ]
  },
  {
   "cell_type": "code",
   "execution_count": 25,
   "metadata": {},
   "outputs": [
    {
     "name": "stdout",
     "output_type": "stream",
     "text": [
      "21\n"
     ]
    }
   ],
   "source": [
    "# Write a function that takes one parameter and triples it\n",
    "def my_triple(num):\n",
    "    return (num * 3)\n",
    "\n",
    "print(my_triple(7))"
   ]
  },
  {
   "cell_type": "markdown",
   "metadata": {},
   "source": [
    "### IF Statements\n",
    "\n",
    "If-statements are used to make sure that blocks of code are executed only if certain conditions are met:"
   ]
  },
  {
   "cell_type": "code",
   "execution_count": null,
   "metadata": {},
   "outputs": [],
   "source": [
    "a = 200\n",
    "b = 33\n",
    "\n",
    "if b > a:\n",
    "    print(\"b is greater than a\")\n",
    "elif a == b:\n",
    "    print(\"a and b are equal\")\n",
    "else:\n",
    "    print(\"a is greater than b\")"
   ]
  },
  {
   "cell_type": "markdown",
   "metadata": {},
   "source": [
    "#### You try!"
   ]
  },
  {
   "cell_type": "code",
   "execution_count": 27,
   "metadata": {},
   "outputs": [
    {
     "data": {
      "text/plain": [
       "1"
      ]
     },
     "execution_count": 27,
     "metadata": {},
     "output_type": "execute_result"
    }
   ],
   "source": [
    "# Write a function that takes one parameter. \n",
    "# If the parameter is greater than 10, double it. Otherwise, return it unchanged.\n",
    "def my_func(n):\n",
    "    if n > 10:\n",
    "        n = n * 2\n",
    "    return n\n",
    "\n",
    "small_n = 1\n",
    "large_n = 11\n",
    "\n",
    "my_func(small_n)\n",
    "my_func(large_n)"
   ]
  },
  {
   "cell_type": "markdown",
   "metadata": {},
   "source": [
    "### Loops\n",
    "\n",
    "#### FOR Loops\n",
    "\n",
    "A FOR loop is used for iterating over a sequence. The range function is useful to generate a list of numbers from a starting point to an end point, following a specified increment. "
   ]
  },
  {
   "cell_type": "code",
   "execution_count": 28,
   "metadata": {},
   "outputs": [
    {
     "name": "stdout",
     "output_type": "stream",
     "text": [
      "2\n",
      "5\n",
      "8\n",
      "11\n",
      "14\n",
      "17\n",
      "20\n",
      "23\n",
      "26\n",
      "29\n"
     ]
    }
   ],
   "source": [
    "for x in range(2, 30, 3):\n",
    "    print(x)"
   ]
  },
  {
   "cell_type": "markdown",
   "metadata": {},
   "source": [
    "#### You try!\n",
    "Add a code cell below and modify the code we just saw to print all the EVEN numbers from 4 to 20 (INCLUDED!)."
   ]
  },
  {
   "cell_type": "code",
   "execution_count": 31,
   "metadata": {},
   "outputs": [
    {
     "name": "stdout",
     "output_type": "stream",
     "text": [
      "4\n",
      "6\n",
      "8\n",
      "10\n",
      "12\n",
      "14\n",
      "16\n",
      "18\n",
      "20\n"
     ]
    }
   ],
   "source": [
    "for x in range(4, 21, 2):\n",
    "    print(x)"
   ]
  },
  {
   "cell_type": "markdown",
   "metadata": {},
   "source": [
    "#### While Loops\n",
    "With the WHILE loop we can execute a set of statements as long as a condition is true.\n",
    "\n",
    "The WHILE loop requires relevant variables to be ready, in this example we need to define an indexing variable, i, which we set to 1."
   ]
  },
  {
   "cell_type": "code",
   "execution_count": 32,
   "metadata": {},
   "outputs": [
    {
     "name": "stdout",
     "output_type": "stream",
     "text": [
      "1\n",
      "2\n",
      "3\n",
      "4\n",
      "5\n"
     ]
    }
   ],
   "source": [
    "i = 1\n",
    "while i < 6:\n",
    "    print(i)\n",
    "    i = 1 + i"
   ]
  },
  {
   "cell_type": "markdown",
   "metadata": {},
   "source": [
    "### Practice\n",
    "1. Find the sum of integers from 1 to 125.\n",
    "\n",
    "2. If we list all the natural numbers below 10 that are multiples of 3 or 5, we get 3, 5, 6 and 9. The sum of these multiples is 23. Find the sum of all the multiples of 3 or 5 below 1000. *Hint: modulo is your friend (so is Google).*"
   ]
  },
  {
   "cell_type": "code",
   "execution_count": 1,
   "metadata": {},
   "outputs": [
    {
     "data": {
      "text/plain": [
       "7875"
      ]
     },
     "execution_count": 1,
     "metadata": {},
     "output_type": "execute_result"
    }
   ],
   "source": [
    "sum(range(1, 126))"
   ]
  },
  {
   "cell_type": "code",
   "execution_count": 2,
   "metadata": {},
   "outputs": [
    {
     "data": {
      "text/plain": [
       "233168"
      ]
     },
     "execution_count": 2,
     "metadata": {},
     "output_type": "execute_result"
    }
   ],
   "source": [
    "sum = 0\n",
    "for i in range(1, 1000):\n",
    "    if i % 3 == 0 or i % 5 == 0:\n",
    "        sum += i\n",
    "sum"
   ]
  }
 ],
 "metadata": {
  "kernelspec": {
   "display_name": "Python 3 (ipykernel)",
   "language": "python",
   "name": "python3"
  },
  "language_info": {
   "codemirror_mode": {
    "name": "ipython",
    "version": 3
   },
   "file_extension": ".py",
   "mimetype": "text/x-python",
   "name": "python",
   "nbconvert_exporter": "python",
   "pygments_lexer": "ipython3",
   "version": "3.10.13"
  }
 },
 "nbformat": 4,
 "nbformat_minor": 4
}
