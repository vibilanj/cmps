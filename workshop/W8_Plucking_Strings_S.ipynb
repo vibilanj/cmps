{
 "cells": [
  {
   "cell_type": "markdown",
   "metadata": {},
   "source": [
    "# Workshop 8: Plucking Strings"
   ]
  },
  {
   "cell_type": "code",
   "execution_count": null,
   "metadata": {},
   "outputs": [],
   "source": [
    "import scipy         # Another numerical library\n",
    "from scipy import integrate\n",
    "\n",
    "import matplotlib    # Library used for plotting\n",
    "import numpy as np   # Numerical library\n",
    "import matplotlib.pyplot as plt # Plot commands\n",
    "import time\n",
    "\n",
    "# Define some colors using the RGB format\n",
    "\n",
    "CF_red = (204/255, 121/255, 167/255)\n",
    "CF_vermillion = (213/255, 94/255, 0)\n",
    "CF_orange = (230/255, 159/255, 0)\n",
    "CF_yellow = (240/255, 228/255, 66/255)\n",
    "CF_green = (0, 158/255, 115/255)\n",
    "CF_sky = (86/255, 180/255, 233/255)\n",
    "CF_blue = (0, 114/255, 178/255)\n",
    "CF_black = (0, 0, 0)"
   ]
  },
  {
   "cell_type": "markdown",
   "metadata": {},
   "source": [
    "### Plucking Strings\n",
    "\n",
    "As you might have already learned (if not, don't worry), the equation of a vibrating string stretched along the $x$ direction is\n",
    "\n",
    "$$\n",
    "\\frac{\\partial^2 y}{\\partial x^2} = \\frac{\\rho}{T}\\frac{\\partial^2 y}{\\partial t^2}\\,,\n",
    "$$\n",
    "\n",
    "where $T$ is the tension of the string, $\\rho$ is the linear density, and $y\\left(x,t\\right)$ is the transverse displacement of the string segment.\n",
    "\n",
    "Using the time Fourier transform alows us to recast the string equation into the following form\n",
    "\n",
    "$$\n",
    "\\frac{d^2 \\hat{y}\\left(x\\right)}{dx^2} = -\\omega^2\\frac{\\rho}{T}\\hat{y}\\left(x\\right)\\,,\n",
    "$$\n",
    "\n",
    "where $\\omega$ is the vibration frequency. You can think of $\\hat{y}\\left(x\\right)$ as the amplitude of the string vibration at some $x$ for a given $\\omega$.\n",
    "\n",
    "Let us now take a string of length $L$ and linear density $\\rho$. We stretch it until it has tension $T$ and then fix its endpoints (it's a string, after all). This means that $\\hat{y}\\left(0\\right) = \\hat{y}\\left(L\\right) = 0$. Importantly, there is *NO* reason to expect this to be true for a general case of the string equation! This means that there should be some special values of $\\omega$ that allow this to hold.\n",
    "\n",
    "Consider a string with $\\rho = 1.14\\times10^{-3}$ kg/m and set the tension to $72$N. Set $L = 0.64$m. Let us see what $\\omega$'s satisfy the equation."
   ]
  },
  {
   "cell_type": "code",
   "execution_count": null,
   "metadata": {},
   "outputs": [],
   "source": []
  },
  {
   "cell_type": "markdown",
   "metadata": {},
   "source": [
    "Sometimes you don't want to waste your time looking for solutions by hand. Is it possible to speed up the process a bit?"
   ]
  },
  {
   "cell_type": "code",
   "execution_count": null,
   "metadata": {},
   "outputs": [],
   "source": []
  },
  {
   "cell_type": "code",
   "execution_count": null,
   "metadata": {},
   "outputs": [],
   "source": []
  },
  {
   "cell_type": "code",
   "execution_count": null,
   "metadata": {},
   "outputs": [],
   "source": []
  }
 ],
 "metadata": {
  "kernelspec": {
   "display_name": "Python 3 (ipykernel)",
   "language": "python",
   "name": "python3"
  },
  "language_info": {
   "codemirror_mode": {
    "name": "ipython",
    "version": 3
   },
   "file_extension": ".py",
   "mimetype": "text/x-python",
   "name": "python",
   "nbconvert_exporter": "python",
   "pygments_lexer": "ipython3",
   "version": "3.10.13"
  }
 },
 "nbformat": 4,
 "nbformat_minor": 4
}
