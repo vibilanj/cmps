{
 "cells": [
  {
   "cell_type": "markdown",
   "metadata": {},
   "source": [
    "# Workshop 4: Orbits and Stability"
   ]
  },
  {
   "cell_type": "code",
   "execution_count": 2,
   "metadata": {},
   "outputs": [],
   "source": [
    "import scipy         # Another numerical library\n",
    "from scipy import integrate\n",
    "\n",
    "import matplotlib    # Library used for plotting\n",
    "import numpy as np   # Numerical library\n",
    "import matplotlib.pyplot as plt # Plot commands\n",
    "\n",
    "# Define some colors using the RGB format\n",
    "\n",
    "CF_red = (204/255, 121/255, 167/255)\n",
    "CF_vermillion = (213/255, 94/255, 0)\n",
    "CF_orange = (230/255, 159/255, 0)\n",
    "CF_yellow = (240/255, 228/255, 66/255)\n",
    "CF_green = (0, 158/255, 115/255)\n",
    "CF_sky = (86/255, 180/255, 233/255)\n",
    "CF_blue = (0, 114/255, 178/255)\n",
    "CF_black = (0, 0, 0)"
   ]
  },
  {
   "cell_type": "markdown",
   "metadata": {},
   "source": [
    "### A Star and a Planet\n",
    "As a warm-up example, let us consider a two-body problem of a planet and a star held together by the force of gravity.\n",
    "\n",
    "The position of the star will be given by $\\mathbf{R} = (X, Y)$ and that of the planet is $\\mathbf{r} = (x,y)$. The masses are $M$ and $m$, respectively. From this, the force of the planet onto the star is\n",
    "\n",
    "$$\n",
    "\\mathbf{F}_\\mathrm{P\\,on\\,S} = \\frac{GMm}{\\left|\\mathbf{r} - \\mathbf{R}\\right|^3}\\left(\\mathbf{r} - \\mathbf{R}\\right)\\,.\n",
    "$$\n",
    "\n",
    "Likewise, the force of the star on the planet is\n",
    "\n",
    "$$\n",
    "\\mathbf{F}_\\mathrm{S\\,on\\,P} = \\frac{GMm}{\\left|\\mathbf{r} - \\mathbf{R}\\right|^3}\\left(\\mathbf{R} - \\mathbf{r}\\right)\\,.\n",
    "$$\n",
    "\n",
    "As we discussed before, it's best not to have overly big numbers floating around. Hence, we express $M$ in units of the solar mass and $m$ in Earth masses: $M = N M_\\odot$, $m = n M_\\oplus$. We also use astronomical units to express the distance so that $\\mathbf{R} = \\mathbf{D}\\times \\mathrm{au}$ and $\\mathbf{r} = \\mathbf{d}\\times \\mathrm{au}$. This sets the forces to\n",
    "\n",
    "$$\n",
    "\\mathbf{F}_\\mathrm{P\\,on\\,S} = \\frac{GM_\\odot M_\\oplus}{\\mathrm{au}^2}\\frac{Nn}{\\left|\\mathbf{d} - \\mathbf{D}\\right|^3}\\left(\\mathbf{d} - \\mathbf{D}\\right)\\,.\n",
    "$$\n",
    "\n",
    "\n",
    "From Newton's second law, the accelerations that the planet and the star experience are\n",
    "\n",
    "$$\n",
    "\\mathbf{a}_P = \\frac{GM_\\odot}{\\mathrm{au}^2}\\frac{N}{\\left|\\mathbf{d} - \\mathbf{D}\\right|^3}\\left(\\mathbf{D} - \\mathbf{d}\\right)\\approx 0.006\\frac{N}{\\left|\\mathbf{d} - \\mathbf{D}\\right|^3}\\left(\\mathbf{D} - \\mathbf{d}\\right)\\,,\n",
    "\\\\\n",
    "\\mathbf{a}_S = \\frac{G M_\\oplus}{\\mathrm{au}^2}\\frac{n}{\\left|\\mathbf{d} - \\mathbf{D}\\right|^3}\\left(\\mathbf{d} - \\mathbf{D}\\right) \\approx 1.78\\times 10^{-8}\\frac{n}{\\left|\\mathbf{d} - \\mathbf{D}\\right|^3}\\left(\\mathbf{d} - \\mathbf{D}\\right)\\,.\n",
    "$$\n",
    "\n",
    "We can see that the acceleration experienced by the star is much smaller than that of the planet. Therefore, we can assume that the star does not move as the planet goes around it. Therefore, we write\n",
    "\n",
    "$$\n",
    "\\ddot{\\mathbf{r}}_P = \\mathrm{au}\\times \\ddot{\\mathbf{d}}= \\frac{GM_\\odot}{\\mathrm{au}^2}\\frac{N}{\\left|\\mathbf{d} \\right|^3}\\left( - \\mathbf{d}\\right)\\,,\n",
    "\\\\\n",
    "\\ddot{\\mathbf{d}}= \\frac{GM_\\odot}{\\mathrm{au}^3}\\frac{N}{\\left|\\mathbf{d} \\right|^3}\\left( - \\mathbf{d}\\right)\\approx \n",
    "3.965\\times 10^{-14}\\frac{N}{\\left|\\mathbf{d} \\right|^3}\\left( - \\mathbf{d}\\right)\\,,\n",
    "$$\n",
    "where the units of $3.965\\times 10^{-14}$ are $s^{-2}$. Alternatively, it can be rewritten as $3\\times 10^{-4}\n",
    "\\,\\mathrm{day}^{-2}$.\n",
    "\n",
    "As before, in order to solve the initial value problem, we need to write it down as a first-order differential equation:\n",
    "\n",
    "$$\n",
    "\\frac{d}{dt}\n",
    "\\begin{pmatrix}\n",
    "x\n",
    "\\\\\n",
    "y\n",
    "\\\\\n",
    "v_x\n",
    "\\\\\n",
    "v_y\n",
    "\\end{pmatrix}\n",
    "=\n",
    "\\begin{pmatrix}\n",
    "v_x\n",
    "\\\\\n",
    "v_y\n",
    "\\\\\n",
    "\\mathbf{a}_P\\cdot \\hat{x}\n",
    "\\\\\n",
    "\\mathbf{a}_P\\cdot \\hat{y}\n",
    "\\end{pmatrix}\n",
    "$$"
   ]
  },
  {
   "cell_type": "code",
   "execution_count": null,
   "metadata": {},
   "outputs": [],
   "source": []
  },
  {
   "cell_type": "markdown",
   "metadata": {},
   "source": [
    "### Two Stars\n",
    "\n",
    "Next, we look at a two-star system. Here, the position of one of them is $\\mathbf{R} = (X, Y)$ and that of the other one is $\\mathbf{r} = (x,y)$. The masses are $M$ and $m$, respectively.\n",
    "\n",
    "Expressing the masses in $M_\\odot$ gives\n",
    "\n",
    "$$\n",
    "\\ddot{\\mathbf{d}} \\approx \n",
    "3\\times 10^{-4}\\frac{N}{\\left|\\mathbf{d} - \\mathbf{D} \\right|^3}\\left(\\mathbf{D} - \\mathbf{d}\\right)\\,,\n",
    "\\\\\n",
    "\\ddot{\\mathbf{D}} \\approx \n",
    "3\\times 10^{-4}\\frac{n}{\\left|\\mathbf{d} - \\mathbf{D} \\right|^3}\\left(\\mathbf{d} - \\mathbf{D}\\right)\\,.\n",
    "$$\n",
    "\n",
    "Plot several different orbits."
   ]
  },
  {
   "cell_type": "code",
   "execution_count": null,
   "metadata": {},
   "outputs": [],
   "source": []
  },
  {
   "cell_type": "code",
   "execution_count": 5,
   "metadata": {},
   "outputs": [],
   "source": []
  },
  {
   "cell_type": "code",
   "execution_count": null,
   "metadata": {},
   "outputs": [],
   "source": []
  }
 ],
 "metadata": {
  "kernelspec": {
   "display_name": "Python 3 (ipykernel)",
   "language": "python",
   "name": "python3"
  },
  "language_info": {
   "codemirror_mode": {
    "name": "ipython",
    "version": 3
   },
   "file_extension": ".py",
   "mimetype": "text/x-python",
   "name": "python",
   "nbconvert_exporter": "python",
   "pygments_lexer": "ipython3",
   "version": "3.10.13"
  }
 },
 "nbformat": 4,
 "nbformat_minor": 4
}
