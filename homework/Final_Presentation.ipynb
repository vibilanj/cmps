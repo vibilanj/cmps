{
 "cells": [
  {
   "cell_type": "markdown",
   "metadata": {},
   "source": [
    "# Random Forest Classification"
   ]
  },
  {
   "cell_type": "code",
   "execution_count": 1,
   "metadata": {},
   "outputs": [],
   "source": [
    "import pandas as pd"
   ]
  },
  {
   "cell_type": "markdown",
   "metadata": {},
   "source": [
    "## Random Forest\n",
    "\n",
    "What is a random forest?\n",
    "How can we use it?\n",
    "Why should we use it?\n",
    "TODO"
   ]
  },
  {
   "cell_type": "code",
   "execution_count": 2,
   "metadata": {},
   "outputs": [],
   "source": [
    "# Getting the data from the urls\n",
    "url_red_wine = 'https://archive.ics.uci.edu/ml/machine-learning-databases/wine-quality/winequality-red.csv'\n",
    "url_white_wine = 'https://archive.ics.uci.edu/ml/machine-learning-databases/wine-quality/winequality-white.csv'\n",
    "\n",
    "red_wine_data = pd.read_csv(url_red_wine, sep = ';');\n",
    "white_wine_data = pd.read_csv(url_white_wine, sep = ';');"
   ]
  },
  {
   "cell_type": "code",
   "execution_count": 3,
   "metadata": {},
   "outputs": [],
   "source": [
    "# Adding the good quality column to the data\n",
    "red_wine_data[\"good quality\"] = red_wine_data.apply(lambda x: x[\"quality\"] >= 7, axis=1)\n",
    "white_wine_data[\"good quality\"] = white_wine_data.apply(lambda x: x[\"quality\"] >= 7, axis=1)"
   ]
  },
  {
   "cell_type": "code",
   "execution_count": 4,
   "metadata": {},
   "outputs": [],
   "source": [
    "# Shuffle the data\n",
    "red_wine_data = red_wine_data.sample(frac = 1).reset_index(drop = True)\n",
    "white_wine_data = white_wine_data.sample(frac = 1).reset_index(drop = True)\n",
    "\n",
    "# Splitting the data into training and testing data\n",
    "train_amount_red = int(0.75 * len(red_wine_data))\n",
    "train_red_wine = red_wine_data.head(train_amount_red)\n",
    "test_red_wine = red_wine_data.tail(len(red_wine_data) - train_amount_red)\n",
    "\n",
    "train_amount_white = int(0.75 * len(white_wine_data))\n",
    "train_white_wine = white_wine_data.head(train_amount_white)\n",
    "test_white_wine = white_wine_data.tail(len(white_wine_data) - train_amount_white)\n",
    "\n",
    "# Splitting the data into measurements and labels\n",
    "train_red_wine_measurements = train_red_wine.drop([\"quality\", \"good quality\"], axis = 1).values\n",
    "train_red_wine_labels = train_red_wine[\"good quality\"]\n",
    "\n",
    "test_red_wine_measurements = test_red_wine.drop([\"quality\", \"good quality\"], axis = 1).values\n",
    "test_red_wine_labels = test_red_wine[\"good quality\"]\n",
    "\n",
    "train_white_wine_measurements = train_white_wine.drop([\"quality\", \"good quality\"], axis = 1).values\n",
    "train_white_wine_labels = train_white_wine[\"good quality\"]\n",
    "\n",
    "test_white_wine_measurements = test_white_wine.drop([\"quality\", \"good quality\"], axis = 1).values\n",
    "test_white_wine_labels = test_white_wine[\"good quality\"]"
   ]
  },
  {
   "cell_type": "code",
   "execution_count": null,
   "metadata": {},
   "outputs": [],
   "source": [
    "# Random Forest Classifier\n",
    "# TODO"
   ]
  }
 ],
 "metadata": {
  "kernelspec": {
   "display_name": "comp_methods",
   "language": "python",
   "name": "python3"
  },
  "language_info": {
   "codemirror_mode": {
    "name": "ipython",
    "version": 3
   },
   "file_extension": ".py",
   "mimetype": "text/x-python",
   "name": "python",
   "nbconvert_exporter": "python",
   "pygments_lexer": "ipython3",
   "version": "3.10.13"
  }
 },
 "nbformat": 4,
 "nbformat_minor": 2
}
