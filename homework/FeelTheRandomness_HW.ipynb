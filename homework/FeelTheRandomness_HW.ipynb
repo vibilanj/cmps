{
 "cells": [
  {
   "cell_type": "markdown",
   "metadata": {},
   "source": [
    "# Feel the Randomness"
   ]
  },
  {
   "cell_type": "code",
   "execution_count": 1,
   "metadata": {},
   "outputs": [],
   "source": [
    "import scipy         # Another numerical library\n",
    "from scipy import integrate\n",
    "\n",
    "import matplotlib    # Library used for plotting\n",
    "import numpy as np   # Numerical library\n",
    "import matplotlib.pyplot as plt # Plot commands\n",
    "\n",
    "# Define some colors using the RGB format\n",
    "\n",
    "CF_red = (204/255, 121/255, 167/255)\n",
    "CF_vermillion = (213/255, 94/255, 0)\n",
    "CF_orange = (230/255, 159/255, 0)\n",
    "CF_yellow = (240/255, 228/255, 66/255)\n",
    "CF_green = (0, 158/255, 115/255)\n",
    "CF_sky = (86/255, 180/255, 233/255)\n",
    "CF_blue = (0, 114/255, 178/255)\n",
    "CF_black = (0, 0, 0)"
   ]
  },
  {
   "cell_type": "markdown",
   "metadata": {},
   "source": [
    "## Radioactive Decay\n",
    "\n",
    "A common stochastic process is the radioactive decay. Most commonly, it is modeled as an exponential function\n",
    "\n",
    "$$\n",
    "N(t) = N_0 e^{-t/\\tau}\n",
    "$$\n",
    "\n",
    "where $N$ is the number of atoms at time , $N_0$ is the number of atoms at $t = 0$, and $\\tau$ is the **decay rate**. The smooth exponentially decaying function applies to a large collection of atoms and is clearly not valid for individual ones. After all, an atom is either decayed or not and $N(t) = 1 \\times e^{-t/\\tau}$ makes no sense.\n",
    "\n",
    "To understand how the exponential behavior arises from the discrete nature of atoms, let us build the problem from the bottom up. We will start with a collection of atoms and then check them every second. We notice that, on average, an atom has some probability to decay within that second.\n",
    "\n",
    "1. The easiest way to differentiate decayed and undecayed states is to denote the former ones by 0 and the latter ones by 1. Write a function `decay(state)` that takes in the atomic state (decayed/undecayed). If the atom is decayed, leave it alone; if not, let it decay with probability $p$.\n",
    "\n",
    "2. Start with $N_0$ atoms at $t = 0$  (create an array of ones of length $N_0$). Run the decay function on each of them $t_{\\text{max}}$ times and plot the number of undecayed atoms at each time step.\n",
    "\n",
    "3. How does the shape of the curve change with $N_0$, $t$, and $p$?"
   ]
  },
  {
   "cell_type": "code",
   "execution_count": null,
   "metadata": {},
   "outputs": [],
   "source": []
  },
  {
   "cell_type": "code",
   "execution_count": null,
   "metadata": {},
   "outputs": [],
   "source": []
  },
  {
   "cell_type": "code",
   "execution_count": null,
   "metadata": {},
   "outputs": [],
   "source": []
  }
 ],
 "metadata": {
  "kernelspec": {
   "display_name": "Python 3 (ipykernel)",
   "language": "python",
   "name": "python3"
  },
  "language_info": {
   "codemirror_mode": {
    "name": "ipython",
    "version": 3
   },
   "file_extension": ".py",
   "mimetype": "text/x-python",
   "name": "python",
   "nbconvert_exporter": "python",
   "pygments_lexer": "ipython3",
   "version": "3.10.13"
  }
 },
 "nbformat": 4,
 "nbformat_minor": 4
}
