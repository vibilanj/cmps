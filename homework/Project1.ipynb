{
 "cells": [
  {
   "cell_type": "markdown",
   "metadata": {},
   "source": [
    "# Project 1"
   ]
  },
  {
   "cell_type": "markdown",
   "metadata": {},
   "source": [
    "As discussed in class, two groups of asteroid accompanying the planet Jupiter in its orbit around the Sun—the Trojan asteroids. The two groups sit at points of stable equilibrium (the Lagrange points) preceding and trailing Jupiter at an angular distance of π/3 radians. The combination of the gravitational attraction of the Sun and Jupiter gives a resultant force on a Trojan asteroid towards the center of mass of the two bodies such that the centripetal acceleration causes the asteroid to orbit with the same period as the planet.\n",
    "\n",
    "Note that units suitable for this system are normalized for the Solar System: the mass of the Sun (M⊙) is taken as unit mass, unit distance is the astronomical unit (AU), and unit time is one year. For such a system, the gravitational constant G is 4π2. The mass of Jupiter can be taken to be 0.001 M⊙ and the average distance of Jupiter from the Sun is 5.2 AU. The asteroids' masses are negligible in this system."
   ]
  },
  {
   "cell_type": "code",
   "execution_count": 2,
   "metadata": {},
   "outputs": [],
   "source": [
    "import matplotlib    # Library used for plotting\n",
    "import numpy as np   # Numerical library\n",
    "import matplotlib.pyplot as plt # Plot commands\n",
    "\n",
    "import scipy         # Another numerical library\n",
    "from scipy import integrate\n",
    "\n",
    "# Define some colors using the RGB format\n",
    "\n",
    "CF_red = (204/255, 121/255, 167/255)\n",
    "CF_vermillion = (213/255, 94/255, 0)\n",
    "CF_orange = (230/255, 159/255, 0)\n",
    "CF_yellow = (240/255, 228/255, 66/255)\n",
    "CF_green = (0, 158/255, 115/255)\n",
    "CF_sky = (86/255, 180/255, 233/255)\n",
    "CF_blue = (0, 114/255, 178/255)\n",
    "CF_black = (0, 0, 0)"
   ]
  },
  {
   "cell_type": "markdown",
   "metadata": {},
   "source": [
    "## Part 1 - Setup"
   ]
  },
  {
   "cell_type": "markdown",
   "metadata": {},
   "source": [
    "Write a program to solve the equations of motion for this system numerically, and demonstrate that the asteroids will stay at the Lagrange points over many orbits of Jupiter around the Sun. This should show that your program is operating correctly with no numerical instabilities being propagated during the computation."
   ]
  },
  {
   "cell_type": "code",
   "execution_count": 42,
   "metadata": {},
   "outputs": [
    {
     "data": {
      "image/png": "[encoded data removed]",
      "text/plain": [
       "<Figure size 640x480 with 1 Axes>"
      ]
     },
     "metadata": {},
     "output_type": "display_data"
    }
   ],
   "source": [
    "# Parameters\n",
    "t_min = 0\n",
    "t_max = 10 * 365.25\n",
    "M_S = 1\n",
    "M_J = 0.001\n",
    "epsilon = 0.1\n",
    "\n",
    "init = np.array([5.2, 0, 0, (1 / 365.25), # Jupiter\n",
    "                 2.6, 4.5, 0, (1 / 365.25)]) # Asteroid L4\n",
    "                #  2.6, -4.5, 0, (1 / 365.25)]) # Asteroid L5\n",
    "                #  5.2 - 0.3604277601, 0, 0, (1 / 365.25)]) # Asteroid L1\n",
    "                #  5.2 + 0.3604277601, 0, 0, (1 / 365.25)]) # Asteroid L2\n",
    "                #  -5.2 - 0.003030303, 0, 0, (1 / 365.25)]) # Asteroid L3\n",
    "\n",
    "# Functions\n",
    "\n",
    "# d = G * M / AU^3 * 86400^2\n",
    "d = -2.96 * 10 ** (-4)\n",
    "\n",
    "def derivative(t, state):\n",
    "    x_J, y_J, v_x_J, v_y_J, x_A, y_A, v_x_A, v_y_A = state\n",
    "\n",
    "    # Distances\n",
    "    r_JS = np.sqrt(x_J ** 2 + y_J ** 2)  # Distance from Jupiter to Sun\n",
    "    r_AS = np.sqrt(x_A **2 + y_A **2)  # Distance from Asteroid to Sun\n",
    "    r_AJ = np.sqrt((x_A - x_J) ** 2 + (y_A - y_J) ** 2)  # Distance from Asteroid to Jupiter\n",
    "\n",
    "    # Accelerations\n",
    "    a_x_JS = d * M_S * x_J / (r_JS ** 3)  # Jupiter's acceleration due to the Sun\n",
    "    a_y_JS = d * M_S * y_J / (r_JS ** 3)\n",
    "\n",
    "    a_x_AS = d * M_S * x_A / (r_AS ** 3)  # Asteroid's acceleration due to the Sun\n",
    "    a_y_AS = d * M_S * y_A / (r_AS ** 3)\n",
    "\n",
    "    a_x_AJ = d * M_J * (x_A - x_J) / (r_AJ ** 3)  # Asteroid's acceleration due to Jupiter\n",
    "    a_y_AJ = d * M_J * (y_A - y_J) / (r_AJ ** 3)\n",
    "\n",
    "    a_x_A = a_x_AS + a_x_AJ  # Total x acceleration of the Asteroid\n",
    "    a_y_A = a_y_AS + a_y_AJ  # Total y acceleration of the Asteroid\n",
    "\n",
    "    return np.array([v_x_J, v_y_J, a_x_JS, a_y_JS, v_x_A, v_y_A, a_x_A, a_y_A])\n",
    "\n",
    "# Solution\n",
    "solution = integrate.solve_ivp(derivative, [t_min, t_max], init, max_step = epsilon)\n",
    "\n",
    "# Plot\n",
    "x_1 = solution.y[0]\n",
    "y_1 = solution.y[1]\n",
    "\n",
    "x_2 = solution.y[4]\n",
    "y_2 = solution.y[5]\n",
    "\n",
    "fig, ax = plt.subplots(1, 1)\n",
    "ax.plot(x_1, y_1, color = CF_blue)\n",
    "ax.plot(x_2, y_2, color = CF_vermillion)\n",
    "ax.set(xlabel = \"$x$\", ylabel = \"$y$\")\n",
    "plt.gca().set_aspect(\"equal\")"
   ]
  },
  {
   "cell_type": "markdown",
   "metadata": {},
   "source": [
    "## Part 2 - Position Stability"
   ]
  },
  {
   "cell_type": "markdown",
   "metadata": {},
   "source": [
    "Vary the initial positions of the asteroids and plot their positions through a few hundred orbits. Your results should show that they oscillate about the Lagrange points, but do not escape from the stable position. Considering both the leading and trailing groups, determine a way to quantitatively describe how far the stable orbits wander from the Lagrange points. Plot their wander as a function of their initial position perturbation."
   ]
  },
  {
   "cell_type": "code",
   "execution_count": null,
   "metadata": {},
   "outputs": [],
   "source": []
  },
  {
   "cell_type": "markdown",
   "metadata": {},
   "source": [
    "## Part 3 - Velocity Stability"
   ]
  },
  {
   "cell_type": "markdown",
   "metadata": {},
   "source": [
    "Give your particles some initial velocity relative to the Lagrange points. Determine the range of initial velocity vectors for which the orbits remain captured by the Lagrange points. "
   ]
  },
  {
   "cell_type": "code",
   "execution_count": null,
   "metadata": {},
   "outputs": [],
   "source": []
  },
  {
   "cell_type": "markdown",
   "metadata": {},
   "source": [
    "## Part 4 - Mass Dependence"
   ]
  },
  {
   "cell_type": "markdown",
   "metadata": {},
   "source": [
    "Similar \"Trojan\" asteroids are also present in the orbit of Mars. Run your program for a range of planetary masses (within two orders of magnitude of Jupiter's mass should work). Explore the range of distances that the asteroids wander as a function of the planetary mass."
   ]
  },
  {
   "cell_type": "code",
   "execution_count": null,
   "metadata": {},
   "outputs": [],
   "source": []
  }
 ],
 "metadata": {
  "kernelspec": {
   "display_name": ".venv",
   "language": "python",
   "name": "python3"
  },
  "language_info": {
   "codemirror_mode": {
    "name": "ipython",
    "version": 3
   },
   "file_extension": ".py",
   "mimetype": "text/x-python",
   "name": "python",
   "nbconvert_exporter": "python",
   "pygments_lexer": "ipython3",
   "version": "3.11.6"
  }
 },
 "nbformat": 4,
 "nbformat_minor": 2
}
