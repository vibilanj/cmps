{
 "cells": [
  {
   "cell_type": "markdown",
   "id": "c46933c2-c9f0-430c-8543-9db5edc53024",
   "metadata": {},
   "source": [
    "# Particle in a Box"
   ]
  },
  {
   "cell_type": "code",
   "execution_count": 1,
   "id": "e937c68b-7c4e-4bd4-a283-23fddf026f35",
   "metadata": {},
   "outputs": [],
   "source": [
    "import scipy         # Another numerical library\n",
    "from scipy import integrate\n",
    "\n",
    "import matplotlib    # Library used for plotting\n",
    "import numpy as np   # Numerical library\n",
    "import matplotlib.pyplot as plt # Plot commands\n",
    "\n",
    "# Define some colors using the RGB format\n",
    "\n",
    "CF_red = (204/255, 121/255, 167/255)\n",
    "CF_vermillion = (213/255, 94/255, 0)\n",
    "CF_orange = (230/255, 159/255, 0)\n",
    "CF_yellow = (240/255, 228/255, 66/255)\n",
    "CF_green = (0, 158/255, 115/255)\n",
    "CF_sky = (86/255, 180/255, 233/255)\n",
    "CF_blue = (0, 114/255, 178/255)\n",
    "CF_black = (0, 0, 0)"
   ]
  },
  {
   "cell_type": "markdown",
   "id": "5974f450-f47b-40f1-917f-05d085120aa0",
   "metadata": {},
   "source": [
    "## Particles as Waves\n",
    "\n",
    "Particle-wave duality is a familiar concept to the 21st century folk. In one dimension, particles obey the 1D Schr&ouml;dinger equation\n",
    "\n",
    "$$\n",
    "i\\hbar\\partial_t\\Psi(x, t) = \\hat{H}\\Psi(x, t)\\,.\n",
    "$$\n",
    "\n",
    "For a particle in a 1D potential well, $\\hat{H} = -\\hbar^2/(2m) \\partial_x^2 + V(x)$, where $V(x)$ is the potential energy. Inside the box, $V(x) = 0$; outside the box, $V(x) = \\infty$. Within the box, the Schr&ouml;dinger equation becomes\n",
    "\n",
    "$$\n",
    "i\\hbar\\partial_t\\Psi(x, t) = -\\frac{\\hbar^2}{2m}\\partial_x^2\\Psi(x, t)\\,.\n",
    "$$\n",
    "Writing $\\Psi(x, t) = X(x)T(t)$ yields\n",
    "\n",
    "$$\n",
    "i\\hbar X(x)T'(t) = -\\frac{\\hbar^2}{2m}X''(x)T(t)\\rightarrow \n",
    "i\\frac{2m}{\\hbar} \\frac{T'(t)}{T(t)} = -\\frac{X''(x)}{X(x)} = k^2\\,.\n",
    "$$\n",
    "Solving for $X(x)$ and $T(t)$, we have\n",
    "\n",
    "$$\n",
    "X_k(x) = A_k \\cos(k x) + B_k \\sin(k x)\n",
    "$$\n",
    "and\n",
    "$$\n",
    "T_k(t) = C_k \\exp\\left(-ik^2\\frac{\\hbar}{2m}t\\right)\\,.\n",
    "$$\n",
    "Combining the two functions gives\n",
    "\n",
    "$$\n",
    "\\Psi_k(x,t) = \\left[A_k \\cos(k x) + B_k \\sin(k x)\\right]\\exp\\left(-ik^2\\frac{\\hbar}{2m}t\\right)\n",
    "$$\n",
    "Using the boundary conditions $\\Psi_k(x = 0, t) = A_k \\exp\\left(-ik^2\\frac{\\hbar}{2m}t\\right) = 0$, so that $A_k = 0$. For the box of width $L$, $\\Psi_k(x = L, t) = 0$, leading to $kL = n\\pi$. Hence\n",
    "\n",
    "$$\n",
    "\\Psi_n(x,t) = A_n \\sin\\left(\\frac{n\\pi x}{L}\\right)\n",
    "\\exp\\left[-i\\frac{1}{2m}\\left(\\frac{n\\pi\\hbar}{L}\\right)^2t/\\hbar\\right]\n",
    "$$\n",
    "\n",
    "**Note**: The quantity $\\frac{1}{2m}\\left(\\frac{n\\pi\\hbar}{L}\\right)^2$ has the dimensions of energy, corresponding to the *allowed energy levels* inside the box. Because $n$ has to be an integer, the allowed energy levels are *discrete* or *quantized*.\n"
   ]
  },
  {
   "cell_type": "markdown",
   "id": "897fb80a-65c7-497e-b213-d2c4f71561e5",
   "metadata": {},
   "source": [
    "## Dimensional Simplification\n",
    "There are many constants in the equation of $\\Psi_n$. To simplify the expression, we express $x$ in terms of $L$ so that $x / L \\rightarrow x$. Also, we combine $\\hbar / mL^2\\rightarrow M$ to get:\n",
    "\n",
    "$$\n",
    "\\Psi_n(x,t) = A_n \\sin\\left(n\\pi x\\right)\n",
    "\\exp\\left(-i\\frac{\\pi^2n^2}{2M}t\\right)\\,.\n",
    "$$\n",
    "\n",
    "Because $|\\Psi|^2$ corresponds to the probability, integrating it over the size of the box should give 1, giving us the value of the normalization constant $A_n$:\n",
    "\n",
    "$$\n",
    "\\Psi_n(x,t) = \\sqrt{2} \\sin\\left(n\\pi x\\right)\n",
    "\\exp\\left(-i\\frac{\\pi^2n^2}{2M}t\\right)\\,.\n",
    "$$\n",
    "\n",
    "Now that we have the modes, we can write down the total wavefunction as a linear combination of the modes:\n",
    "\n",
    "$$\n",
    "\\Psi(x,t) = \\sum_n c_n \\sqrt{2} \\sin\\left(n\\pi x\\right)\n",
    "\\exp\\left(-i\\frac{\\pi^2n^2}{2M}t\\right)\\,,\n",
    "$$\n",
    "where $c_n$ are the coefficients."
   ]
  },
  {
   "cell_type": "markdown",
   "id": "0465deac-9b73-4c9d-ba48-d1c192edec40",
   "metadata": {},
   "source": [
    "### Question 1\n",
    "\n",
    "Let $M$ = 1. At $t = 0$, $\\Psi(x) = \\Psi_n(x)$. Show that $|\\Psi_n(x,t)|^2$ remains unchanged as $t$ changes."
   ]
  },
  {
   "cell_type": "markdown",
   "id": "43658caf-dbbc-4225-ad9a-522efd36f179",
   "metadata": {},
   "source": [
    "### Question 2\n",
    "At $t= 0$, let $\\Psi(x) = \\frac{1}{\\sigma\\sqrt{2\\pi}}\\exp\\left[-\\frac{(x - 1/2)^2}{2\\sigma^2} \\right] - \\frac{1}{\\sigma\\sqrt{2\\pi}}\\exp\\left[-\\frac{(0 - 1/2)^2}{2\\sigma^2} \\right]$. Keep $\\sigma$ smaller than 1 (plot it to make sure the entire wavefunction is INSIDE the box).\n",
    "\n",
    "Set $M = 1$ and calculate $c_n$'s. Show how $|\\Psi_n(x,t)|^2$ changes in time. "
   ]
  },
  {
   "cell_type": "markdown",
   "id": "18ec4068-dd10-4e29-8a72-fa45bdb8bbf1",
   "metadata": {},
   "source": [
    "### Question 3\n",
    "\n",
    "Play with $M$. How does the system's evolution with time change with $M$?"
   ]
  },
  {
   "cell_type": "code",
   "execution_count": null,
   "id": "1910bc55-3511-4b71-925b-eedf06736150",
   "metadata": {},
   "outputs": [],
   "source": []
  }
 ],
 "metadata": {
  "kernelspec": {
   "display_name": "Python 3 (ipykernel)",
   "language": "python",
   "name": "python3"
  },
  "language_info": {
   "codemirror_mode": {
    "name": "ipython",
    "version": 3
   },
   "file_extension": ".py",
   "mimetype": "text/x-python",
   "name": "python",
   "nbconvert_exporter": "python",
   "pygments_lexer": "ipython3",
   "version": "3.10.13"
  }
 },
 "nbformat": 4,
 "nbformat_minor": 5
}
