{
 "cells": [
  {
   "cell_type": "markdown",
   "metadata": {},
   "source": [
    "# Ising Model"
   ]
  },
  {
   "cell_type": "code",
   "execution_count": null,
   "metadata": {},
   "outputs": [],
   "source": [
    "import scipy         # Another numerical library\n",
    "\n",
    "import matplotlib    # Library used for plotting\n",
    "import numpy as np   # Numerical library\n",
    "import matplotlib.pyplot as plt # Plot commands\n",
    "\n",
    "# Define some colors using the RGB format\n",
    "\n",
    "CF_red = (204/255, 121/255, 167/255)\n",
    "CF_vermillion = (213/255, 94/255, 0)\n",
    "CF_orange = (230/255, 159/255, 0)\n",
    "CF_yellow = (240/255, 228/255, 66/255)\n",
    "CF_green = (0, 158/255, 115/255)\n",
    "CF_sky = (86/255, 180/255, 233/255)\n",
    "CF_blue = (0, 114/255, 178/255)\n",
    "CF_black = (0, 0, 0)"
   ]
  },
  {
   "cell_type": "markdown",
   "metadata": {},
   "source": [
    "## 1D Ising\n",
    "\n",
    "A 1D Ising model is composed of a chain of interacting spins. In its simplest version, the interaction is limited to the nearest neighbors so that the energy is given by\n",
    "\n",
    "$$\n",
    "E = -J\\sum_i s_i s_{i + 1}\\,,\n",
    "$$\n",
    "\n",
    "where $s_i = \\pm 1$ is the spin on the $i$th site and $J > 0$. One can see that the energy is minimized if all the spins point in the same direction.\n",
    "\n",
    "As you will learn later in more detail in your courses, spins also interact with the magnetic field $\\mathbf{B}$. Aligning spins with the magnetic field lowers their energy. Therefore, we can extend our energy expression as\n",
    "\n",
    "$$\n",
    "E = -J\\sum_i s_i s_{i + 1} - B \\sum_i s_i\\,.\n",
    "$$\n",
    "\n",
    "This means that if $B>0$, up-spins will be favored energetically; if $B<0$, down-spins will be preferred.\n",
    "\n",
    "In this problem, we will encounter three energy parameters: $J$, $B$ and $k_B T$. As a matter of convenience, we can express all the energies in the system in terms of the spin-spin interaction $J$. This amounts to setting $J = 1$ so that\n",
    "\n",
    "$$\n",
    "E = -\\sum_i s_i s_{i + 1} - B \\sum_i s_i\\,.\n",
    "$$\n",
    "\n",
    "This way, we don't have to worry about the actual magnitudes of $B$ and $k_B T$. Instead, we care about how they compare to $J$.\n",
    "\n",
    "#### IMPORTANT:\n",
    "\n",
    "In each of the following questions use the results of the earlier questions, when applicable! Don't reinvent the wheel!"
   ]
  },
  {
   "cell_type": "markdown",
   "metadata": {},
   "source": [
    "#### Question 1\n",
    "\n",
    "Before we start playing with the spin system, we need to create it. Write a function that takes the number of spins in the chain $N$ and returns a random configuration of spins. It is most convenient to represent the spin configuration as a list of $\\pm 1$'s."
   ]
  },
  {
   "cell_type": "code",
   "execution_count": null,
   "metadata": {},
   "outputs": [],
   "source": []
  },
  {
   "cell_type": "markdown",
   "metadata": {},
   "source": [
    "#### Question 2\n",
    "\n",
    "Each spin, except the two at the edges, has two neighbors (one on the left and one on the right). To avoid edge effects, we will turn the atomic chain into a circle so that the first and the last spins become adjacent. This way, *every* spin has two neighbors.\n",
    "\n",
    "As we discussed in class, spins can spontaneously flip due to the interaction with the environment. We are going to write a function that will try to flip a single spin in the chain. It will take four parameters: the chain array, the index of the spin that we are trying to flip, $B$, and the temperature $k_B T$.  Remember that we set $J = 1$ in the expression for the energy above.\n",
    "\n",
    "Don't forget about the ring structure of the chain! (Modulo is your friend!)\n",
    "\n",
    "\n",
    "The flipping will be perfomed using a variation of the acceptance-rejection method. It goes as follows:\n",
    "1. Compare the energies of the original configuration and the one with the flipped spin.\n",
    "2. If $\\Delta E = E_\\mathrm{flipped} - E_\\mathrm{original} < 0$, the flipped configuration is energetically preferred. Therefore, return this configuration.\n",
    "3. Otherwise, draw a random number $p \\in [0,1]$ and compare $e^{-\\Delta E/(k_BT)}$ to it. If $e^{-\\Delta E/(k_BT)} > p$, return the flipped configuration. Otherwise, return the original one."
   ]
  },
  {
   "cell_type": "code",
   "execution_count": null,
   "metadata": {},
   "outputs": [],
   "source": []
  },
  {
   "cell_type": "markdown",
   "metadata": {},
   "source": [
    "Finally, we can use the result of **Question 2** to try to flip the spins throughout the system.\n",
    "\n",
    "\n",
    "#### Question 3\n",
    "Write a function that cycles over all the spins in the chain and tries to flip them. This function should take the spin configuration, $B$, and $k_B T$ as inputs."
   ]
  },
  {
   "cell_type": "code",
   "execution_count": null,
   "metadata": {},
   "outputs": [],
   "source": []
  },
  {
   "cell_type": "markdown",
   "metadata": {},
   "source": [
    "### Intermission\n",
    "\n",
    "At this point, stand up, relax a bit. You are done with the \"dumb\" portion of this part of the project. Make sure you understand what the functions you have so far can do.\n",
    "\n",
    "Next, we're going to make some science!\n",
    "\n",
    "### Intermission Over\n",
    "\n",
    "So far we know the following:\n",
    "1. Spins prefer to align with their neighbors\n",
    "2. Spins prefer to point in the direction of the magnetic field\n",
    "3. Temperature messes up the order\n",
    "\n",
    "We would like to quantify the order in our system. To this end, we define a quantity called *magnetization*, given by\n",
    "\n",
    "$$\n",
    "M = \\frac{1}{N}\\sum_i s_i\\,,\n",
    "$$\n",
    "\n",
    "where $N$ is the total number of spins in the system.\n",
    "\n",
    "If $M = \\pm 1$, all spins are aligned and point either up ($M = 1$) or down ($M = -1$). Other values of $M$ mean that the spins are not completely aligned. We want to know how magnetized a system becomes for different values of $k_B T$ and $B$. To answer this question, we will proceed as follows:\n",
    "\n",
    "1. First, we will generate a random chain of some length\n",
    "2. We will then apply the function you wrote in **Question 3** repeatedly to this chain. Each application corresponds to a time step.\n",
    "3. After a sufficiently long time, we assume that the magnetization will settle on some number and won't change (aside from some small fluctuations due to the temperature).\n",
    "4. At this point, we can compute the magnetization of the system.\n",
    "5. We can repeat this process several times to make sure we get consistent results. Maybe take an average of several realizations at the same $k_B T$, $B$, and $N$.\n",
    "6. Finally, we can perform this at different $k_B T$ and $B$ to see the role that the temperature and the magnetic field have on magnetization.\n",
    "\n",
    "Your goal here is to obtain plots of $M$ *vs.* $B$ for several representative values of $k_B T$. What do you see? Can you get your system to have a finite $M$ at any $T$ for $B = 0$? Describe your results.\n",
    "\n",
    "*Suggestion: Once you know that you are running your simulations for enough time steps, play with $k_B T$ and $B$. Explore. Make the temperature really small and really large. What changes? This is your virtual lab, mess with the system!*\n",
    "\n",
    "\n",
    "It turns out that we know the analytical result for the magnetization in 1D:\n",
    "\n",
    "$$\n",
    "M = \\frac{\\sinh\\left(\\frac{B}{k_B T}\\right)}{\\sqrt{e^{-\\frac{4 J}{k_BT}} + \\sinh^2\\left(\\frac{B}{k_B T}\\right)}}\\,.\n",
    "$$\n",
    "\n",
    "Show that your results agree with the formula.\n"
   ]
  },
  {
   "cell_type": "code",
   "execution_count": null,
   "metadata": {},
   "outputs": [],
   "source": []
  },
  {
   "cell_type": "code",
   "execution_count": null,
   "metadata": {},
   "outputs": [],
   "source": []
  },
  {
   "cell_type": "markdown",
   "metadata": {},
   "source": [
    "## 2D Ising\n",
    "\n",
    "Now that you are experts in the 1D Ising model, we move to two dimensions. Here, instead of being arranged in a line, the spins are positioned on a square lattice. This means that instead of two neighbors, each atom (except the edges) has four. The energy, in this case, becomes:\n",
    "\n",
    "$$\n",
    "E = -\\sum_{\\langle ij\\rangle} s_i s_{j} - B \\sum_i s_i\\,,\n",
    "$$\n",
    "\n",
    "where $\\langle ij\\rangle$ means that we grab the spins of neighbors only.\n",
    "\n",
    "As before, we want to avoid edge effects, so we make our system periodic. Before, we turned our chain into a ring; now we turn the square lattice into a doughnut (or donut, if you prefer) so that each lattice site gets four neighbors.\n",
    "\n",
    "#### Questions:\n",
    "\n",
    "Repeat **Questions 1** -- **3** for the 2D case. After that, proceed with the analysis like you did with the 1D case. Can you get you system to magnetize at any $T$ for $B = 0$?"
   ]
  },
  {
   "cell_type": "code",
   "execution_count": null,
   "metadata": {},
   "outputs": [],
   "source": []
  },
  {
   "cell_type": "code",
   "execution_count": null,
   "metadata": {},
   "outputs": [],
   "source": []
  },
  {
   "cell_type": "code",
   "execution_count": null,
   "metadata": {},
   "outputs": [],
   "source": []
  }
 ],
 "metadata": {
  "kernelspec": {
   "display_name": "Python 3 (ipykernel)",
   "language": "python",
   "name": "python3"
  },
  "language_info": {
   "codemirror_mode": {
    "name": "ipython",
    "version": 3
   },
   "file_extension": ".py",
   "mimetype": "text/x-python",
   "name": "python",
   "nbconvert_exporter": "python",
   "pygments_lexer": "ipython3",
   "version": "3.10.13"
  }
 },
 "nbformat": 4,
 "nbformat_minor": 4
}
